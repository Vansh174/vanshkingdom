{
 "cells": [
  {
   "cell_type": "code",
   "execution_count": 6,
   "id": "7a8059d8",
   "metadata": {},
   "outputs": [
    {
     "name": "stdout",
     "output_type": "stream",
     "text": [
      "enter the no to find its factorial- 5\n",
      "5! = 120\n"
     ]
    }
   ],
   "source": [
    "#q1 To find factorial of a no.\n",
    "x=int(input('enter the no to find its factorial- '))\n",
    "f=1\n",
    "for i in range(1,x+1):\n",
    "    f=f*i\n",
    "print(str(x)+'! =',f)"
   ]
  },
  {
   "cell_type": "code",
   "execution_count": 9,
   "id": "842c4049",
   "metadata": {},
   "outputs": [
    {
     "name": "stdout",
     "output_type": "stream",
     "text": [
      "enter the no to dispaly it multiplication table- 13\n",
      "13 X 1 = 13\n",
      "13 X 2 = 26\n",
      "13 X 3 = 39\n",
      "13 X 4 = 52\n",
      "13 X 5 = 65\n",
      "13 X 6 = 78\n",
      "13 X 7 = 91\n",
      "13 X 8 = 104\n",
      "13 X 9 = 117\n",
      "13 X 10 = 130\n"
     ]
    }
   ],
   "source": [
    "#q2 to display multiplication table \n",
    "x=int(input('enter the no to dispaly it multiplication table- '))\n",
    "for i in range(1,11):\n",
    "    print(x,'X',i,'=',x*i)"
   ]
  },
  {
   "cell_type": "code",
   "execution_count": 2,
   "id": "f00595d3",
   "metadata": {},
   "outputs": [
    {
     "name": "stdout",
     "output_type": "stream",
     "text": [
      "enter the no of terms of fibonacci seq- 5\n",
      "0\n",
      "1\n",
      "1\n",
      "2\n",
      "3\n"
     ]
    }
   ],
   "source": [
    "#q3 to print fibonacci sequence\n",
    "x=int(input('enter the no of terms of fibonacci seq- '))\n",
    "x1=0\n",
    "x2=1\n",
    "while(x!=0):\n",
    "    print(x1)\n",
    "    x3=x1\n",
    "    x1=x2\n",
    "    x2=x2+x3\n",
    "    x=x-1\n",
    "    \n",
    "        \n"
   ]
  },
  {
   "cell_type": "code",
   "execution_count": 10,
   "id": "1bdfd04c",
   "metadata": {},
   "outputs": [
    {
     "name": "stdout",
     "output_type": "stream",
     "text": [
      "enter the no to check for armstrong- 371\n",
      "371 is a armstrong no.\n"
     ]
    }
   ],
   "source": [
    "#q4 to check for armstrong no\n",
    "x=int(input('enter the no to check for armstrong- '))\n",
    "n=len(str(x))\n",
    "s=0\n",
    "org=x\n",
    "while(x!=0):\n",
    "    rem=x%10\n",
    "    s=s+rem**n\n",
    "    x=x//10\n",
    "    \n",
    "if s==org:\n",
    "    print(org,'is a armstrong no.')\n",
    "else:\n",
    "    print(org,'is not a armstrong no')\n",
    "    "
   ]
  },
  {
   "cell_type": "code",
   "execution_count": 19,
   "id": "f85d733e",
   "metadata": {},
   "outputs": [
    {
     "name": "stdout",
     "output_type": "stream",
     "text": [
      "enter the lower limit of interval:100\n",
      "enter the upper limit of interval:400\n",
      "The armstrong nos in interval(100, 400) are\n",
      "153\n",
      "370\n",
      "371\n"
     ]
    }
   ],
   "source": [
    "#q5 to check for armstrong no in an interval\n",
    "\n",
    "x1=int(input('enter the lower limit of interval:'))\n",
    "x2=int(input('enter the upper limit of interval:'))\n",
    "print('The armstrong nos in interval'+str((x1,x2))+' are')\n",
    "for i in range(x1,x2+1):\n",
    "    n=len(str(i))\n",
    "    s=0\n",
    "    org=i\n",
    "    while(org!=0):\n",
    "        rem=org%10\n",
    "        s=s+rem**n\n",
    "        org=org//10\n",
    "        \n",
    "    if s==i:\n",
    "        print(i)\n",
    "    \n",
    "    "
   ]
  },
  {
   "cell_type": "code",
   "execution_count": 21,
   "id": "ea6bc3dc",
   "metadata": {},
   "outputs": [
    {
     "name": "stdout",
     "output_type": "stream",
     "text": [
      "Enter no of terms: 5\n",
      "Sum of first 5 natural no.s is 15\n"
     ]
    }
   ],
   "source": [
    "#q6 sum of n natural nos\n",
    "x=int(input('Enter no of terms: '))\n",
    "sum=0\n",
    "for i in range(1,x+1):\n",
    "    sum=sum+i\n",
    "print('Sum of first',x,'natural no.s is',sum)\n",
    "    "
   ]
  }
 ],
 "metadata": {
  "kernelspec": {
   "display_name": "Python 3 (ipykernel)",
   "language": "python",
   "name": "python3"
  },
  "language_info": {
   "codemirror_mode": {
    "name": "ipython",
    "version": 3
   },
   "file_extension": ".py",
   "mimetype": "text/x-python",
   "name": "python",
   "nbconvert_exporter": "python",
   "pygments_lexer": "ipython3",
   "version": "3.9.7"
  }
 },
 "nbformat": 4,
 "nbformat_minor": 5
}
