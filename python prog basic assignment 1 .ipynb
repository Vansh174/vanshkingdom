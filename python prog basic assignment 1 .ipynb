{
 "cells": [
  {
   "cell_type": "code",
   "execution_count": 1,
   "id": "a82ed139",
   "metadata": {},
   "outputs": [
    {
     "name": "stdout",
     "output_type": "stream",
     "text": [
      "hello python\n"
     ]
    }
   ],
   "source": [
    "#q1 hello python\n",
    "print('hello python')"
   ]
  },
  {
   "cell_type": "code",
   "execution_count": 3,
   "id": "7b8aa5bf",
   "metadata": {},
   "outputs": [
    {
     "name": "stdout",
     "output_type": "stream",
     "text": [
      "enter no.128\n",
      "enter no.24\n",
      "addition of two no.s 32\n",
      "division of two no.s 7.0\n"
     ]
    }
   ],
   "source": [
    "#q2 arithmetic operation\n",
    "a=int(input('enter no.1'))\n",
    "b=int(input('enter no.2'))\n",
    "print('addition of two no.s',a+b)\n",
    "print('division of two no.s',a/b)"
   ]
  },
  {
   "cell_type": "code",
   "execution_count": 5,
   "id": "e2ae87cf",
   "metadata": {},
   "outputs": [
    {
     "name": "stdout",
     "output_type": "stream",
     "text": [
      "enter base of triangle 8\n",
      "enter height of triangle 10\n",
      "the area of triangle 40.0\n"
     ]
    }
   ],
   "source": [
    "#q3 area of triangle\n",
    "a=int(input('enter base of triangle '))\n",
    "b=int(input('enter height of triangle '))\n",
    "print('the area of triangle',0.5*a*b)"
   ]
  },
  {
   "cell_type": "code",
   "execution_count": 8,
   "id": "ba922dd8",
   "metadata": {},
   "outputs": [
    {
     "name": "stdout",
     "output_type": "stream",
     "text": [
      "enter the first no.5\n",
      "enter the second no.8\n",
      "after swapping the nos:the first no. is  8  and  the second no. is  5\n"
     ]
    }
   ],
   "source": [
    "#4 swap two no.s \n",
    "a=int(input('enter the first no.'))\n",
    "b=int(input('enter the second no.'))\n",
    "c=a\n",
    "a=b\n",
    "b=c\n",
    "print('after swapping the nos:the first no. is ',a,' and ','the second no. is ',b)\n"
   ]
  },
  {
   "cell_type": "code",
   "execution_count": 10,
   "id": "5312a67e",
   "metadata": {},
   "outputs": [],
   "source": [
    "#q5 to generate a random no\n",
    "import random"
   ]
  },
  {
   "cell_type": "code",
   "execution_count": 30,
   "id": "388b8235",
   "metadata": {},
   "outputs": [
    {
     "name": "stdout",
     "output_type": "stream",
     "text": [
      "0.013114189588902203\n",
      "6\n"
     ]
    }
   ],
   "source": [
    "print(random.random())\n",
    "print(random.randint(0,20))"
   ]
  }
 ],
 "metadata": {
  "kernelspec": {
   "display_name": "Python 3 (ipykernel)",
   "language": "python",
   "name": "python3"
  },
  "language_info": {
   "codemirror_mode": {
    "name": "ipython",
    "version": 3
   },
   "file_extension": ".py",
   "mimetype": "text/x-python",
   "name": "python",
   "nbconvert_exporter": "python",
   "pygments_lexer": "ipython3",
   "version": "3.9.7"
  }
 },
 "nbformat": 4,
 "nbformat_minor": 5
}
