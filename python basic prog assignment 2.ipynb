{
 "cells": [
  {
   "cell_type": "code",
   "execution_count": 6,
   "id": "12b193f2",
   "metadata": {},
   "outputs": [
    {
     "name": "stdout",
     "output_type": "stream",
     "text": [
      "enter your distance in km: 2\n",
      "your distance in miles is: 1.2428\n"
     ]
    }
   ],
   "source": [
    "#1 km to miles\n",
    "a=float(input('enter your distance in km: '))\n",
    "#1km=0.621371\n",
    "a=a*0.6214\n",
    "print('your distance in miles is:',a)"
   ]
  },
  {
   "cell_type": "code",
   "execution_count": 10,
   "id": "d6c874c0",
   "metadata": {},
   "outputs": [
    {
     "name": "stdout",
     "output_type": "stream",
     "text": [
      "enter the temperatue in C: 32\n",
      "the temperatue in F is: 89.6\n"
     ]
    }
   ],
   "source": [
    "#2 celsius to farenheit\n",
    "a=float(input('enter the temperatue in C: '))\n",
    "a=(a*9/5)+32\n",
    "print('the temperatue in F is:',a)"
   ]
  },
  {
   "cell_type": "code",
   "execution_count": 12,
   "id": "9247d0da",
   "metadata": {},
   "outputs": [
    {
     "name": "stdout",
     "output_type": "stream",
     "text": [
      "                                  2022\n",
      "\n",
      "      January                   February                   March\n",
      "Mo Tu We Th Fr Sa Su      Mo Tu We Th Fr Sa Su      Mo Tu We Th Fr Sa Su\n",
      "                1  2          1  2  3  4  5  6          1  2  3  4  5  6\n",
      " 3  4  5  6  7  8  9       7  8  9 10 11 12 13       7  8  9 10 11 12 13\n",
      "10 11 12 13 14 15 16      14 15 16 17 18 19 20      14 15 16 17 18 19 20\n",
      "17 18 19 20 21 22 23      21 22 23 24 25 26 27      21 22 23 24 25 26 27\n",
      "24 25 26 27 28 29 30      28                        28 29 30 31\n",
      "31\n",
      "\n",
      "       April                      May                       June\n",
      "Mo Tu We Th Fr Sa Su      Mo Tu We Th Fr Sa Su      Mo Tu We Th Fr Sa Su\n",
      "             1  2  3                         1             1  2  3  4  5\n",
      " 4  5  6  7  8  9 10       2  3  4  5  6  7  8       6  7  8  9 10 11 12\n",
      "11 12 13 14 15 16 17       9 10 11 12 13 14 15      13 14 15 16 17 18 19\n",
      "18 19 20 21 22 23 24      16 17 18 19 20 21 22      20 21 22 23 24 25 26\n",
      "25 26 27 28 29 30         23 24 25 26 27 28 29      27 28 29 30\n",
      "                          30 31\n",
      "\n",
      "        July                     August                  September\n",
      "Mo Tu We Th Fr Sa Su      Mo Tu We Th Fr Sa Su      Mo Tu We Th Fr Sa Su\n",
      "             1  2  3       1  2  3  4  5  6  7                1  2  3  4\n",
      " 4  5  6  7  8  9 10       8  9 10 11 12 13 14       5  6  7  8  9 10 11\n",
      "11 12 13 14 15 16 17      15 16 17 18 19 20 21      12 13 14 15 16 17 18\n",
      "18 19 20 21 22 23 24      22 23 24 25 26 27 28      19 20 21 22 23 24 25\n",
      "25 26 27 28 29 30 31      29 30 31                  26 27 28 29 30\n",
      "\n",
      "      October                   November                  December\n",
      "Mo Tu We Th Fr Sa Su      Mo Tu We Th Fr Sa Su      Mo Tu We Th Fr Sa Su\n",
      "                1  2          1  2  3  4  5  6                1  2  3  4\n",
      " 3  4  5  6  7  8  9       7  8  9 10 11 12 13       5  6  7  8  9 10 11\n",
      "10 11 12 13 14 15 16      14 15 16 17 18 19 20      12 13 14 15 16 17 18\n",
      "17 18 19 20 21 22 23      21 22 23 24 25 26 27      19 20 21 22 23 24 25\n",
      "24 25 26 27 28 29 30      28 29 30                  26 27 28 29 30 31\n",
      "31\n",
      "\n"
     ]
    }
   ],
   "source": [
    "#3 to display calendar\n",
    "import calendar\n",
    "yy=2022\n",
    "print(calendar.calendar(yy))"
   ]
  },
  {
   "cell_type": "code",
   "execution_count": 36,
   "id": "b4775449",
   "metadata": {},
   "outputs": [
    {
     "name": "stdout",
     "output_type": "stream",
     "text": [
      "enter value of a for ax^2+bx+c: 1\n",
      "enter value of b for ax^2+bx+c: 5\n",
      "enter value of c for ax^2+bx+c: 6\n",
      "Given eqn:  1 x^2+ 5 x+ 6\n",
      "Roots of the given equation are: 3.0 and 2.0\n"
     ]
    }
   ],
   "source": [
    "#4 to find solution of quadratic eqn\n",
    "import math\n",
    "a=int(input('enter value of a for ax^2+bx+c: '))\n",
    "b=int(input('enter value of b for ax^2+bx+c: '))\n",
    "c=int(input('enter value of c for ax^2+bx+c: '))\n",
    "print('Given eqn: ',a,'x^2+',b,'x+',c)\n",
    "d=(b**2)-(4*a*c)\n",
    "b1=(b+math.sqrt(d))/2*a\n",
    "b2=(b-math.sqrt(d))/2*a\n",
    "print('Roots of the given equation are:',b1,'and',b2)"
   ]
  },
  {
   "cell_type": "code",
   "execution_count": 39,
   "id": "5d5efba3",
   "metadata": {},
   "outputs": [
    {
     "name": "stdout",
     "output_type": "stream",
     "text": [
      "x= 4\n",
      "y= 6\n",
      "After swaping the var:  x= 6   y= 4\n"
     ]
    }
   ],
   "source": [
    "#5 swap two var without temp var\n",
    "x=int(input('x= '))\n",
    "y=int(input('y= '))\n",
    "x,y=y,x\n",
    "print('After swaping the var:  x=',x,'  y=',y)"
   ]
  }
 ],
 "metadata": {
  "kernelspec": {
   "display_name": "Python 3 (ipykernel)",
   "language": "python",
   "name": "python3"
  },
  "language_info": {
   "codemirror_mode": {
    "name": "ipython",
    "version": 3
   },
   "file_extension": ".py",
   "mimetype": "text/x-python",
   "name": "python",
   "nbconvert_exporter": "python",
   "pygments_lexer": "ipython3",
   "version": "3.9.7"
  }
 },
 "nbformat": 4,
 "nbformat_minor": 5
}
